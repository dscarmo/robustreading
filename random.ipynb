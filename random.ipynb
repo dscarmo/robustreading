{
 "cells": [
  {
   "cell_type": "code",
   "execution_count": 1,
   "metadata": {},
   "outputs": [],
   "source": [
    "import numpy as np"
   ]
  },
  {
   "cell_type": "code",
   "execution_count": 16,
   "metadata": {},
   "outputs": [
    {
     "name": "stdout",
     "output_type": "stream",
     "text": [
      "[[3 5 8]\n",
      " [5 1 3]\n",
      " [2 4 9]]\n",
      "[[9 1 4]\n",
      " [3 2 4]\n",
      " [2 4 3]]\n"
     ]
    }
   ],
   "source": [
    "A = np.random.randint(0, 10, (3,3))\n",
    "B = np.random.randint(0, 10, (3,3))\n",
    "\n",
    "print(A)\n",
    "print(B)"
   ]
  },
  {
   "cell_type": "code",
   "execution_count": 21,
   "metadata": {},
   "outputs": [
    {
     "name": "stdout",
     "output_type": "stream",
     "text": [
      "[[58 45 56]\n",
      " [54 19 33]\n",
      " [48 46 51]]\n",
      "[[58 45 56]\n",
      " [54 19 33]\n",
      " [48 46 51]]\n"
     ]
    }
   ],
   "source": [
    "# NP DOT = matrix multiplication\n",
    "dot = A.dot(B)\n",
    "matmul = np.matmul(A, B)\n",
    "print(dot)\n",
    "print(matmul)\n"
   ]
  },
  {
   "cell_type": "code",
   "execution_count": 18,
   "metadata": {},
   "outputs": [
    {
     "name": "stdout",
     "output_type": "stream",
     "text": [
      "[[27  5 32]\n",
      " [15  2 12]\n",
      " [ 4 16 27]]\n"
     ]
    }
   ],
   "source": [
    "# Times (element-wise) \n",
    "times = A * B\n",
    "print(times)"
   ]
  },
  {
   "cell_type": "code",
   "execution_count": null,
   "metadata": {},
   "outputs": [],
   "source": []
  }
 ],
 "metadata": {
  "kernelspec": {
   "display_name": "Python 3",
   "language": "python",
   "name": "python3"
  },
  "language_info": {
   "codemirror_mode": {
    "name": "ipython",
    "version": 3
   },
   "file_extension": ".py",
   "mimetype": "text/x-python",
   "name": "python",
   "nbconvert_exporter": "python",
   "pygments_lexer": "ipython3",
   "version": "3.6.5"
  }
 },
 "nbformat": 4,
 "nbformat_minor": 2
}
