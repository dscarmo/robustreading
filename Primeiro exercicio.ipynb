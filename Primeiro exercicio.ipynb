{
 "cells": [
  {
   "cell_type": "code",
   "execution_count": 1,
   "metadata": {
    "ExecuteTime": {
     "end_time": "2018-08-07T14:26:02.152433Z",
     "start_time": "2018-08-07T14:26:01.540457Z"
    }
   },
   "outputs": [],
   "source": [
    "import numpy as np"
   ]
  },
  {
   "cell_type": "code",
   "execution_count": 2,
   "metadata": {
    "ExecuteTime": {
     "end_time": "2018-08-07T14:30:29.616212Z",
     "start_time": "2018-08-07T14:30:29.608175Z"
    }
   },
   "outputs": [],
   "source": [
    "# Modificando tamanhos para visualização\n",
    "A = np.random.randint(0,10,(3,4))\n"
   ]
  },
  {
   "cell_type": "code",
   "execution_count": 3,
   "metadata": {
    "ExecuteTime": {
     "end_time": "2018-08-07T14:30:32.465951Z",
     "start_time": "2018-08-07T14:30:32.457062Z"
    }
   },
   "outputs": [],
   "source": [
    "B = np.random.randint(0,10,(4,3))\n"
   ]
  },
  {
   "cell_type": "markdown",
   "metadata": {},
   "source": [
    "# Modificar o notebook para explicar como os 3 comandos abaixo funcionam"
   ]
  },
  {
   "cell_type": "markdown",
   "metadata": {},
   "source": [
    "# Para explicar o que está acontecendo, irei explicar o que cada comando/operação realiza nos códigos, com justificativa quando necessário."
   ]
  },
  {
   "cell_type": "code",
   "execution_count": 4,
   "metadata": {
    "ExecuteTime": {
     "end_time": "2018-08-07T14:32:46.334031Z",
     "start_time": "2018-08-07T14:32:44.004976Z"
    }
   },
   "outputs": [
    {
     "name": "stdout",
     "output_type": "stream",
     "text": [
      "A: [[9 9 1 2]\n",
      " [4 2 0 4]\n",
      " [3 5 6 8]]\n",
      "B: [[6 8 1]\n",
      " [8 7 6]\n",
      " [4 1 6]\n",
      " [5 5 7]]\n",
      "A dot B faz multiplicação matricial:\n",
      "[[140 146  83]\n",
      " [ 60  66  44]\n",
      " [122 105 125]]\n",
      "np.diag extrai a diagonal da matriz:\n",
      "[140  66 125]\n"
     ]
    }
   ],
   "source": [
    "#How to get the diagonal of a dot product? (★★★)\n",
    "\n",
    "# Author: Mathieu Blondel\n",
    "\n",
    "# Slow version\n",
    "\n",
    "# Comando original \n",
    "C = np.diag(np.dot(A, B)) \n",
    "\n",
    "dot = np.dot(A, B) # faz a multiplicação matricial de A e B\n",
    "C = np.diag(dot) # extrai a diagonal de uma matriz\n",
    "print(\"A: \" + str(A))\n",
    "print(\"B: \" + str(B))\n",
    "print(\"A dot B faz multiplicação matricial:\\n\" + str(dot))\n",
    "print(\"np.diag extrai a diagonal da matriz:\\n\" + str(C))\n"
   ]
  },
  {
   "cell_type": "markdown",
   "metadata": {},
   "source": [
    "# O primeiro método é bem direto ao ponto. Uma das funções calcula a mutliplicação matricial e o segundo extrai a diagonal.\n",
    "\n",
    "# Segundo método:"
   ]
  },
  {
   "cell_type": "code",
   "execution_count": 5,
   "metadata": {
    "ExecuteTime": {
     "end_time": "2018-08-07T14:33:11.110272Z",
     "start_time": "2018-08-07T14:33:02.085044Z"
    }
   },
   "outputs": [
    {
     "name": "stdout",
     "output_type": "stream",
     "text": [
      "Transposta de B:\n",
      "[[6 8 4 5]\n",
      " [8 7 1 5]\n",
      " [1 6 6 7]]\n",
      "Resultado da multiplicação element wise com BT:\n",
      "[[54 72  4 10]\n",
      " [32 14  0 20]\n",
      " [ 3 30 36 56]]\n",
      "Soma no eixo 1\n",
      "[140  66 125]\n"
     ]
    }
   ],
   "source": [
    "# Fast version\n",
    "# Comando original\n",
    "#%timeit np.sum(A * B.T, axis=1)\n",
    "\n",
    "Bt = B.T\n",
    "print(\"Transposta de B:\\n\" + str(Bt))\n",
    "AB = A*Bt\n",
    "print(\"Resultado da multiplicação element wise com BT:\\n\" + str(AB))\n",
    "sumaxis1 = np.sum(AB, axis=1)\n",
    "print(\"Soma no eixo 1\\n\" + str(sumaxis1))"
   ]
  },
  {
   "cell_type": "markdown",
   "metadata": {},
   "source": [
    "# Explicação segundo método:\n",
    "\n",
    "Devido a transposição de B, a soma no axis=1 (soma horizontal) de A*Bt equivale aos calculos realizados em A.dot(B) para i = j (diagonal), tornando o processo mais eficiente por não calcular todos as somas de produtos dos outros elementos, que seriam calculados em A.dot(B).\n",
    "\n",
    "# Terceiro método \n",
    "Essa abordagem utiliza a einsten sum, utilizando uma notação matemática introduzida por Einsten, onde índices na variável implicam soma dessa variavel em valores variando no índice. Alguns experimentos explorando a einsten sum. "
   ]
  },
  {
   "cell_type": "code",
   "execution_count": 6,
   "metadata": {
    "ExecuteTime": {
     "end_time": "2018-08-07T14:33:23.737182Z",
     "start_time": "2018-08-07T14:33:20.779408Z"
    }
   },
   "outputs": [
    {
     "name": "stdout",
     "output_type": "stream",
     "text": [
      "A: [[9 9 1 2]\n",
      " [4 2 0 4]\n",
      " [3 5 6 8]]\n",
      "\n",
      "einsum('ij', A) =\n",
      "[[9 9 1 2]\n",
      " [4 2 0 4]\n",
      " [3 5 6 8]] = A\n",
      "\n",
      "einsum('ji', A) =\n",
      "[[9 4 3]\n",
      " [9 2 5]\n",
      " [1 0 6]\n",
      " [2 4 8]] = A.T\n",
      "\n",
      "einsum('ij->j', A) =\n",
      "[16 16  7 14] = np.sum(A, axis=0), soma de cada coluna de A\n",
      "\n",
      "einsum('ij->i', A) =\n",
      "[21 10 22] = np.sum(A, axis=1), soma de cada linha de A\n",
      "\n",
      "einsum('ji->i', A) =\n",
      "[16 16  7 14] = np.sum(A.T, axis=1) soma de cada linha da transposta de A\n",
      "\n",
      "einsum('ij, ji', A, B) =\n",
      "331 = np.sum(A*B.T)\n",
      "\n",
      "\n",
      "De posse dos resultados dos experimentos anteriores, verifica se que a einsum realizada realiza a mesma operação do método 2:\n",
      "\n",
      "einsum('ij,ji->i', A, B) =\n",
      "[140  66 125] = np.sum(A * B.T, axis=1)\n",
      "\n"
     ]
    }
   ],
   "source": [
    "# Faster version\n",
    "# TODO\n",
    "#%timeit np.einsum(\"ij,ji->i\", A, B)\n",
    "\n",
    "print(\"A: \" + str(A), end='\\n\\n')\n",
    "print(\"einsum('ij', A) =\\n\" + str(np.einsum('ij', A)), end=' = A\\n\\n')\n",
    "print(\"einsum('ji', A) =\\n\" + str(np.einsum('ji', A)), end=' = A.T\\n\\n')\n",
    "print(\"einsum('ij->j', A) =\\n\" + str(np.einsum('ij->j', A)), end=' = np.sum(A, axis=0), soma de cada coluna de A\\n\\n')\n",
    "print(\"einsum('ij->i', A) =\\n\" + str(np.einsum('ij->i', A)), end=' = np.sum(A, axis=1), soma de cada linha de A\\n\\n')\n",
    "print(\"einsum('ji->i', A) =\\n\" + str(np.einsum('ji->i', A)), end=' = np.sum(A.T, axis=1) soma de cada linha da transposta de A\\n\\n')\n",
    "print(\"einsum('ij, ji', A, B) =\\n\" + str(np.einsum('ij,ji', A, B)), end=' = np.sum(A*B.T)\\n\\n\\n')\n",
    "\n",
    "print(\"De posse dos resultados dos experimentos anteriores, verifica se que a einsum realizada realiza a mesma operação do método 2:\\n\")\n",
    "\n",
    "print(\"einsum('ij,ji->i', A, B) =\\n\" + str(np.einsum(\"ij,ji->i\", A, B)), end=' = np.sum(A * B.T, axis=1)\\n\\n')"
   ]
  }
 ],
 "metadata": {
  "kernelspec": {
   "display_name": "Python 3",
   "language": "python",
   "name": "python3"
  },
  "language_info": {
   "codemirror_mode": {
    "name": "ipython",
    "version": 3
   },
   "file_extension": ".py",
   "mimetype": "text/x-python",
   "name": "python",
   "nbconvert_exporter": "python",
   "pygments_lexer": "ipython3",
   "version": "3.6.6"
  },
  "toc": {
   "nav_menu": {},
   "number_sections": true,
   "sideBar": true,
   "skip_h1_title": false,
   "toc_cell": false,
   "toc_position": {},
   "toc_section_display": "block",
   "toc_window_display": false
  }
 },
 "nbformat": 4,
 "nbformat_minor": 2
}
