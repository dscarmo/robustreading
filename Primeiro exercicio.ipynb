{
 "cells": [
  {
   "cell_type": "code",
   "execution_count": 2,
   "metadata": {
    "ExecuteTime": {
     "end_time": "2018-08-07T14:26:02.152433Z",
     "start_time": "2018-08-07T14:26:01.540457Z"
    }
   },
   "outputs": [],
   "source": [
    "import numpy as np"
   ]
  },
  {
   "cell_type": "code",
   "execution_count": 3,
   "metadata": {
    "ExecuteTime": {
     "end_time": "2018-08-07T14:30:29.616212Z",
     "start_time": "2018-08-07T14:30:29.608175Z"
    }
   },
   "outputs": [],
   "source": [
    "# Modificando tamanhos para visualização\n",
    "A = np.random.randint(0,10,(3,4))\n"
   ]
  },
  {
   "cell_type": "code",
   "execution_count": 4,
   "metadata": {
    "ExecuteTime": {
     "end_time": "2018-08-07T14:30:32.465951Z",
     "start_time": "2018-08-07T14:30:32.457062Z"
    }
   },
   "outputs": [],
   "source": [
    "B = np.random.randint(0,10,(4,3))\n"
   ]
  },
  {
   "cell_type": "markdown",
   "metadata": {},
   "source": [
    "# Modificar o notebook para explicar como os 3 comandos abaixo funcionam"
   ]
  },
  {
   "cell_type": "code",
   "execution_count": 16,
   "metadata": {
    "ExecuteTime": {
     "end_time": "2018-08-07T14:32:46.334031Z",
     "start_time": "2018-08-07T14:32:44.004976Z"
    }
   },
   "outputs": [
    {
     "name": "stdout",
     "output_type": "stream",
     "text": [
      "A: [[1 4 3 2]\n",
      " [5 7 4 9]\n",
      " [7 9 2 0]]\n",
      "B: [[3 7 2]\n",
      " [0 4 6]\n",
      " [6 4 9]\n",
      " [5 4 9]]\n",
      "A dot B faz multiplicação matricial:\n",
      "[[ 31  43  71]\n",
      " [ 84 115 169]\n",
      " [ 33  93  86]]\n",
      "np.diag extrai a diagonal da matriz:\n",
      "[ 31 115  86]\n"
     ]
    }
   ],
   "source": [
    "#How to get the diagonal of a dot product? (★★★)\n",
    "\n",
    "# Author: Mathieu Blondel\n",
    "\n",
    "# Slow version\n",
    "\n",
    "# Comando original \n",
    "#%timeit C = np.diag(np.dot(A, B)) \n",
    "\n",
    "dot = np.dot(A, B) # faz a multiplicação matricial de A e B\n",
    "C = np.diag(dot) # extrai a diagonal de uma matriz\n",
    "print(\"A: \" + str(A))\n",
    "print(\"B: \" + str(B))\n",
    "print(\"A dot B faz multiplicação matricial:\\n\" + str(dot))\n",
    "print(\"np.diag extrai a diagonal da matriz:\\n\" + str(C))\n"
   ]
  },
  {
   "cell_type": "code",
   "execution_count": 18,
   "metadata": {
    "ExecuteTime": {
     "end_time": "2018-08-07T14:33:11.110272Z",
     "start_time": "2018-08-07T14:33:02.085044Z"
    }
   },
   "outputs": [
    {
     "name": "stdout",
     "output_type": "stream",
     "text": [
      "Transposta de B:\n",
      "[[3 0 6 5]\n",
      " [7 4 4 4]\n",
      " [2 6 9 9]]\n",
      "A multiplicação element wise com BT:\n",
      "[[ 3  0 18 10]\n",
      " [35 28 16 36]\n",
      " [14 54 18  0]]\n",
      "Soma no eixo 1\n",
      "[ 31 115  86]\n",
      "\n",
      "Devido a transposição de B, A*Bt equivale a A.dot(B). \n",
      "\n",
      "Em outras palavras, a transposição de B torna uma multiplicação linha linha do produto element wise fica igual a uma multiplicação linha por coluna da multiplicação matricial.\n",
      "\n",
      " A soma no eixo 1 resulta no resultado para i = j em A*B\n"
     ]
    }
   ],
   "source": [
    "# Fast version\n",
    "# Comando original\n",
    "# %timeit np.sum(A * B.T, axis=1)\n",
    "\n",
    "Bt = B.T\n",
    "print(\"Transposta de B:\\n\" + str(Bt))\n",
    "AB = A*Bt\n",
    "print(\"A multiplicação element wise com BT:\\n\" + str(AB))\n",
    "sumaxis1 = np.sum(AB, axis=1)\n",
    "print(\"Soma no eixo 1\\n\" + str(sumaxis1))\n",
    "\n",
    "print(\"\\nDevido a transposição de B, A*Bt equivale a A.dot(B). \\n\\nEm outras palavras, a transposição de B torna uma multiplicação linha linha do produto element wise fica igual a uma multiplicação linha por coluna da multiplicação matricial.\\n\\n A soma no eixo 1 resulta no resultado para i = j em A*B\")"
   ]
  },
  {
   "cell_type": "code",
   "execution_count": 18,
   "metadata": {
    "ExecuteTime": {
     "end_time": "2018-08-07T14:33:23.737182Z",
     "start_time": "2018-08-07T14:33:20.779408Z"
    }
   },
   "outputs": [
    {
     "name": "stdout",
     "output_type": "stream",
     "text": [
      "360 µs ± 56.4 µs per loop (mean ± std. dev. of 7 runs, 1000 loops each)\n"
     ]
    }
   ],
   "source": [
    "# Faster version\n",
    "# TODO\n",
    "%timeit np.einsum(\"ij,ji->i\", A, B)"
   ]
  },
  {
   "cell_type": "code",
   "execution_count": null,
   "metadata": {},
   "outputs": [],
   "source": []
  }
 ],
 "metadata": {
  "kernelspec": {
   "display_name": "Python 3",
   "language": "python",
   "name": "python3"
  },
  "language_info": {
   "codemirror_mode": {
    "name": "ipython",
    "version": 3
   },
   "file_extension": ".py",
   "mimetype": "text/x-python",
   "name": "python",
   "nbconvert_exporter": "python",
   "pygments_lexer": "ipython3",
   "version": "3.6.5"
  },
  "toc": {
   "nav_menu": {},
   "number_sections": true,
   "sideBar": true,
   "skip_h1_title": false,
   "toc_cell": false,
   "toc_position": {},
   "toc_section_display": "block",
   "toc_window_display": false
  }
 },
 "nbformat": 4,
 "nbformat_minor": 2
}
