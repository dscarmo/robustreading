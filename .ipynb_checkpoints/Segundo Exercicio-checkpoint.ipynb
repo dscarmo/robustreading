{
 "cells": [
  {
   "cell_type": "markdown",
   "metadata": {},
   "source": [
    "# Seja o exercício:"
   ]
  },
  {
   "cell_type": "code",
   "execution_count": 1,
   "metadata": {
    "ExecuteTime": {
     "end_time": "2018-08-07T14:48:21.980576Z",
     "start_time": "2018-08-07T14:48:21.976597Z"
    }
   },
   "outputs": [],
   "source": [
    "import numpy as np"
   ]
  },
  {
   "cell_type": "code",
   "execution_count": 2,
   "metadata": {},
   "outputs": [],
   "source": [
    "#Consider the vector [1, 2, 3, 4, 5], how to build a new vector with 3 consecutive zeros interleaved between each value? (★★★)\n",
    "Z = np.array([1,2,3,4,5])\n",
    "nz = 3"
   ]
  },
  {
   "cell_type": "code",
   "execution_count": 3,
   "metadata": {
    "ExecuteTime": {
     "end_time": "2018-08-07T14:48:22.390007Z",
     "start_time": "2018-08-07T14:48:22.381221Z"
    }
   },
   "outputs": [
    {
     "name": "stdout",
     "output_type": "stream",
     "text": [
      "[1. 0. 0. 0. 2. 0. 0. 0. 3. 0. 0. 0. 4. 0. 0. 0. 5.]\n"
     ]
    }
   ],
   "source": [
    "# Solução fornecida\n",
    "# Author: Warren Weckesser\n",
    "def Z0():\n",
    "    Z0 = np.zeros(len(Z) + (len(Z)-1)*(nz))\n",
    "    Z0[::nz+1] = Z\n",
    "    return Z0\n",
    "print(Z0())\n"
   ]
  },
  {
   "cell_type": "code",
   "execution_count": 4,
   "metadata": {},
   "outputs": [
    {
     "name": "stdout",
     "output_type": "stream",
     "text": [
      "2.09 µs ± 80.1 ns per loop (mean ± std. dev. of 7 runs, 100000 loops each)\n"
     ]
    }
   ],
   "source": [
    "%%timeit\n",
    "# Timing it\n",
    "Z0()"
   ]
  },
  {
   "cell_type": "markdown",
   "metadata": {},
   "source": [
    "# Criar outras soluções"
   ]
  },
  {
   "cell_type": "markdown",
   "metadata": {},
   "source": [
    "Crie outras soluções utilizando matrizes e indexação matricial para o problema acima. \n",
    "Compare o tempo de execução de todas as soluções"
   ]
  },
  {
   "cell_type": "markdown",
   "metadata": {},
   "source": [
    "A solução fornecida já é uma das mais eficientes. A seguir outras soluções."
   ]
  },
  {
   "cell_type": "markdown",
   "metadata": {},
   "source": [
    "# Solução não-pythonica"
   ]
  },
  {
   "cell_type": "markdown",
   "metadata": {},
   "source": [
    "Essa é a solução menos eficiente, usando loops do python que geralmente são mais lentos que outros métodos."
   ]
  },
  {
   "cell_type": "code",
   "execution_count": 5,
   "metadata": {},
   "outputs": [
    {
     "name": "stdout",
     "output_type": "stream",
     "text": [
      "[1. 0. 0. 0. 2. 0. 0. 0. 3. 0. 0. 0. 4. 0. 0. 0. 5.]\n"
     ]
    }
   ],
   "source": [
    "def Z1():\n",
    "    Z1 = np.zeros(len(Z) + (len(Z)-1)*(nz))\n",
    "    zerosin = 0\n",
    "    iz1 = 0\n",
    "    for i,_ in enumerate(Z1):\n",
    "        if i == 0 or zerosin == nz:\n",
    "            Z1[i] = Z[iz1]\n",
    "            iz1 += 1\n",
    "            zerosin = 0\n",
    "        else:\n",
    "            zerosin += 1\n",
    "    return Z1\n",
    "print(Z1())"
   ]
  },
  {
   "cell_type": "code",
   "execution_count": 6,
   "metadata": {},
   "outputs": [
    {
     "name": "stdout",
     "output_type": "stream",
     "text": [
      "5.97 µs ± 338 ns per loop (mean ± std. dev. of 7 runs, 100000 loops each)\n"
     ]
    }
   ],
   "source": [
    "%%timeit\n",
    "# Timing it\n",
    "Z1()"
   ]
  },
  {
   "cell_type": "markdown",
   "metadata": {},
   "source": [
    "# Solução alternativa usando numpy"
   ]
  },
  {
   "cell_type": "markdown",
   "metadata": {},
   "source": [
    "Essa solução usa uma função do numpy que insere (não substitui) no primeiro argumento valores do terceiro argumento, seguindo indices fornecidos pelo segundo argumento"
   ]
  },
  {
   "cell_type": "code",
   "execution_count": 7,
   "metadata": {},
   "outputs": [
    {
     "name": "stdout",
     "output_type": "stream",
     "text": [
      "[1. 0. 0. 0. 2. 0. 0. 0. 3. 0. 0. 0. 4. 0. 0. 0. 5.]\n"
     ]
    }
   ],
   "source": [
    "def Z2():\n",
    "    Z2 = np.zeros((len(Z)-1)*(nz))\n",
    "    Z2 = np.insert(Z2, [i*(nz) for i in range(0, len(Z))], Z) \n",
    "    return Z2\n",
    "print(Z2())"
   ]
  },
  {
   "cell_type": "code",
   "execution_count": 8,
   "metadata": {},
   "outputs": [
    {
     "name": "stdout",
     "output_type": "stream",
     "text": [
      "34.6 µs ± 1.39 µs per loop (mean ± std. dev. of 7 runs, 10000 loops each)\n"
     ]
    }
   ],
   "source": [
    "%%timeit\n",
    "# Timing it\n",
    "Z2()"
   ]
  },
  {
   "cell_type": "markdown",
   "metadata": {},
   "source": [
    "# Solução usando mascara com iterators"
   ]
  },
  {
   "cell_type": "markdown",
   "metadata": {},
   "source": [
    "Esta solução é diferente e utiliza iterators do python\n",
    "\n",
    "Inicialmente, os indices do vetor resultando que não terão valor 0 são calculados, e os índices possíveis do vetor resultante também são alocados.\n",
    "\n",
    "Para criar a resposta, realiza-se uma operação checando se o índice atual é um índice com valor não zero, se sim, o proximo valor do iterator formado do vetor original da pergunta é adicionado a resposta, se não zero.\n",
    "\n",
    "Obviamente uma solução desnecessariamente complciada mas interessante."
   ]
  },
  {
   "cell_type": "code",
   "execution_count": 9,
   "metadata": {},
   "outputs": [
    {
     "name": "stdout",
     "output_type": "stream",
     "text": [
      "[1, 0, 0, 0, 2, 0, 0, 0, 3, 0, 0, 0, 4, 0, 0, 0, 5]\n"
     ]
    }
   ],
   "source": [
    "def Z3():\n",
    "    notzero_idx = [i*(nz+1) for i in range(0,len(Z))]\n",
    "    Z3idx = np.arange(0,len(Z) + (len(Z)-1)*(nz), 1)\n",
    "\n",
    "    Ziter = iter(Z)\n",
    "\n",
    "    Z3 = [next(Ziter) if i in notzero_idx else 0 for i in Z3idx]\n",
    "    return Z3\n",
    "print(Z3())"
   ]
  },
  {
   "cell_type": "code",
   "execution_count": 10,
   "metadata": {},
   "outputs": [
    {
     "name": "stdout",
     "output_type": "stream",
     "text": [
      "14.3 µs ± 438 ns per loop (mean ± std. dev. of 7 runs, 100000 loops each)\n"
     ]
    }
   ],
   "source": [
    "%%timeit\n",
    "# Timing it\n",
    "Z3()"
   ]
  },
  {
   "cell_type": "markdown",
   "metadata": {},
   "source": [
    "# Análise de tempo de execução"
   ]
  },
  {
   "cell_type": "markdown",
   "metadata": {},
   "source": [
    "Soluções mais rápidas:<br>\n",
    "1- Z0<br>\n",
    "2- Z1<br>\n",
    "3- Z3<br>\n",
    "4- Z2<br>\n",
    "\n",
    "A solução com slicing original, Z0, utiliza todo o poder da indexação matricial do python e é difícil de ser superada. Interessantemente, a solução não pythonica com loops for foi mais rapida que Z3 e Z2, provavelmente pela quantidade reduzida de alocações na memória. \n",
    "\n",
    "Outra coisa interessante foi que utilizar a função insert do numpy foi a pior solução (Z2), com a abordagem de mascara booleana com iteradores (Z3) superando-a.\n"
   ]
  }
 ],
 "metadata": {
  "kernelspec": {
   "display_name": "Python 3",
   "language": "python",
   "name": "python3"
  },
  "language_info": {
   "codemirror_mode": {
    "name": "ipython",
    "version": 3
   },
   "file_extension": ".py",
   "mimetype": "text/x-python",
   "name": "python",
   "nbconvert_exporter": "python",
   "pygments_lexer": "ipython3",
   "version": "3.6.6"
  },
  "toc": {
   "nav_menu": {},
   "number_sections": true,
   "sideBar": true,
   "skip_h1_title": false,
   "toc_cell": false,
   "toc_position": {},
   "toc_section_display": "block",
   "toc_window_display": false
  }
 },
 "nbformat": 4,
 "nbformat_minor": 2
}
